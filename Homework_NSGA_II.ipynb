{
  "cells": [
    {
      "cell_type": "markdown",
      "metadata": {
        "id": "Ch3TzTI14L4u"
      },
      "source": [
        "# Zadanie domowe - implementacja algorytmu NSGA-II"
      ]
    },
    {
      "cell_type": "code",
      "execution_count": null,
      "metadata": {
        "id": "9gw0iCgS4L42"
      },
      "outputs": [],
      "source": [
        "# Import niezbędnych bibliotek\n",
        "# inline = pozwala wykreślać wykresy biblioteki matplotlib w okienkach jupytera\n",
        "%matplotlib inline \n",
        "import matplotlib.pyplot as plt\n",
        "import numpy as np"
      ]
    },
    {
      "cell_type": "code",
      "execution_count": null,
      "metadata": {
        "id": "9AhtuG2N4L44"
      },
      "outputs": [],
      "source": [
        "### Klasa Solution\n",
        "class Solution:\n",
        "    def __init__(self, x, f, name):\n",
        "        self.x = x ### zmienne decyzyjne\n",
        "        self.f = f ### wektor ocen [f1, f2]\n",
        "        self.front = 0 ## pomocnicza wartość przechowująca numer niezdominowanego frontu\n",
        "        self.cd = 0.0 ## pomocnicza wartość przechowująca wartość crowding distance\n",
        "        self.name = name ### pomocnicza nazwa rozwiązania\n",
        "\n",
        "    def __str__(self):\n",
        "        return \"[\" + self.name + \" : F = \" + str(self.f) + \"]\""
      ]
    },
    {
      "cell_type": "code",
      "execution_count": null,
      "metadata": {
        "id": "4-rQom8d4L44"
      },
      "outputs": [],
      "source": [
        "### TODO należy uzupełnić funkcję obliczającą realizacjię kryteriow w oparciu o informacje w pliku PDF\n",
        "### wejście = wektor zmiennych decyzyjnych; wyjście = wektor ocen\n",
        "# Ewluacja rozwiazaąnia w oparciu o zmienne decyzyjne\n",
        "\n",
        "def evaluate(x):\n",
        "    l = 1 + abs(x[1]**10 - 0.5) + x[2] + x[3] + x[4]\n",
        "    return [x[0]**10 * l, (1 - x[0]**10) * l]"
      ]
    },
    {
      "cell_type": "code",
      "execution_count": null,
      "metadata": {
        "id": "S77x3Cct4L45",
        "outputId": "aa442710-2592-489a-ea8a-b505549d1c67"
      },
      "outputs": [
        {
          "name": "stdout",
          "output_type": "stream",
          "text": [
            "[0-0 : F = [0.11253713943152015, 3.38746286056848]]\n",
            "[0-1 : F = [0.426086985980013, 3.9269622997874185]]\n",
            "[0-2 : F = [0.002215168713553575, 2.000804421924605]]\n",
            "[0-3 : F = [0.000195387512409694, 2.4989815952995125]]\n",
            "[0-4 : F = [1.9208233051299512e-08, 2.4105612473528155]]\n",
            "[0-5 : F = [0.23532474340737233, 2.260798873625241]]\n",
            "[0-6 : F = [9.782756992315005e-09, 3.499976711051763]]\n",
            "[0-7 : F = [1.4650475690918239, 2.0175409235469957]]\n",
            "[0-8 : F = [0.022577591294946416, 3.477419937710727]]\n",
            "[0-9 : F = [4.267526282250755e-12, 3.2218012653416253]]\n"
          ]
        }
      ],
      "source": [
        "### Procedura tworzy populacje początkowa o zadanym rozmiarze N\n",
        "def constructInitialPopulation(N):\n",
        "    P = []\n",
        "    for i in range(N):\n",
        "        x = [j for j in range(5)] \n",
        "        x[0] = np.random.rand()\n",
        "        x[1] = np.random.rand()\n",
        "        for j in range(2,5): x[j] = np.random.randint(0,2)\n",
        "        f = evaluate(x) ### ewaluacja rozwiązania\n",
        "        P.append(Solution(x, f, str(0)+\"-\"+str(i))) ### dodanie rozwiązania do listy, \n",
        "        # nazwa składa się z dwóch członów: numer generacji, \n",
        "        # w której rozwiązanie zostało wygenerowane oraz numer rozwiązania w populacji\n",
        "    return P\n",
        "\n",
        "P = constructInitialPopulation(10000)\n",
        "for s in P[:10]: print(s) ### Wypisanie przykładowych rozwiązań (dla testu)"
      ]
    },
    {
      "cell_type": "code",
      "execution_count": null,
      "metadata": {
        "id": "JFeg63eK4L46",
        "outputId": "dad94469-5056-45d0-da6a-6d30bcb68b55"
      },
      "outputs": [
        {
          "data": {
            "image/png": "[encoded data removed]",
            "text/plain": [
              "<Figure size 432x288 with 1 Axes>"
            ]
          },
          "metadata": {
            "needs_background": "light"
          },
          "output_type": "display_data"
        }
      ],
      "source": [
        "### Poniższa funkcja wykreśla rozwiązania w P wykorzystując wykres punktowy. \n",
        "### Przy dużym rozmiarze N można zaobserwowa jak losowo wygenerowane rozwiązania \n",
        "### rozkładają się w przestrzeni ocen. Proszę sprawdzić np. dla N=10000. \n",
        "### TODO Proszę uzasadnić uzyskany rozkład odwołując się do definicji problemu (funkcji ocen)\n",
        "\n",
        "def plotPopul(P):\n",
        "    plt.figure()\n",
        "    X = [s.f[0] for s in P]\n",
        "    Y = [s.f[1] for s in P]\n",
        "    plt.plot(X, Y, ls='', marker='o')\n",
        "    plt.xlim(0, 3.0)\n",
        "    plt.ylim(0, 3.0)\n",
        "\n",
        "plotPopul(P)"
      ]
    },
    {
      "cell_type": "markdown",
      "metadata": {
        "id": "A8YZuO4g4L47"
      },
      "source": [
        "Wykres jest podzielony na cztery fronty ze względu na trzy zmienne binarne w definicji $l$, których suma może przybrać wartości 0, 1, 2 lub 3.\n",
        "\n",
        "Fronty tworzą linie ze względa na przetarg między kryteriami: w pierwszym jest $x_1^{10}$, a w drugim $1 - x_1^{10}$.\n",
        "\n",
        "Większość rozwiązań ma wartości bliskie 0 dla pierwszego kryterium, a różne od zera dla drugiego kryterium ze względu na podnoszenie $x_1$ do wysokiej potęgi.\n",
        "\n",
        "Ze względu na podnoszenie $x_2$ do wysokiej potęgi ($l$ jest wtedy większe) większość rozwiązań w ramach danego frontu ma większą sumę kryteriów $f_1 + f_2$, co wpływa na widoczne linie."
      ]
    },
    {
      "cell_type": "code",
      "execution_count": null,
      "metadata": {
        "id": "OEsY-8L34L48",
        "outputId": "a7206047-324d-4efb-b202-5bc77c0d899d"
      },
      "outputs": [
        {
          "name": "stdout",
          "output_type": "stream",
          "text": [
            "[[4196, 4868], [7682, 6274], [9213, 5359], [4062, 4979], [8720, 1251], [6779, 7374], [1835, 7818], [6726, 7901], [608, 840], [218, 4531]]\n"
          ]
        }
      ],
      "source": [
        "### TODO poniższa funkcja winna zwracać listę par indeksów rozwiązań wybranych do reprodukcji.\n",
        "### Z każdej pary zostanie utworzone jedno rozwiązanie potomne. \n",
        "### Selekcja powinna odbywać się w oparciu o turniej o rozmiarze 2\n",
        "### Wyjście: lista par -> [ [idx11, idx12],...,[idxN1, idxN2] ]\n",
        "\n",
        "from numpy.random import default_rng\n",
        "rng = default_rng()\n",
        "\n",
        "def select_parent(population, tournament_size, exclude=[]):\n",
        "    valid_idx = list(set(range(len(population))) - set(exclude))\n",
        "    candidates = rng.choice(valid_idx, tournament_size, replace=False)\n",
        "    return min(candidates, key=lambda idx: (population[idx].front, -population[idx].cd))\n",
        "\n",
        "def constructParents(N):\n",
        "    parents = []\n",
        "    tournament_size = 2\n",
        "    for _ in range(N):\n",
        "        parent1 = select_parent(P, tournament_size)\n",
        "        parent2 = select_parent(P, tournament_size, exclude=[parent1])\n",
        "        parents.append([parent1, parent2])\n",
        "    return parents\n",
        "\n",
        "print(constructParents(10)) ### TEST"
      ]
    },
    {
      "cell_type": "code",
      "execution_count": null,
      "metadata": {
        "id": "sL7MEaeC4L48",
        "outputId": "51687f6f-af44-4de3-abf5-ba5eb78beadf"
      },
      "outputs": [
        {
          "name": "stdout",
          "output_type": "stream",
          "text": [
            "[0.0, 0.5, 1.0]\n"
          ]
        }
      ],
      "source": [
        "# TODO poniższa funkcja powinna dokonywać krzyżowania dwóch wejściowych wektorów\n",
        "# zmiennych decyzyjnych. Procedura może zostać zaimplementowana w dowolny sposób\n",
        "# Sugerowane najprostsze rozwiązanie: \"potomek\" przy określaniu wartości każdej zmiennej\n",
        "# przejmuje wartość od losowego rodzica.\n",
        "\n",
        "def getCrossed(xA, xB):\n",
        "    return [a if rng.integers(0, 2) == 1 else b for a, b in zip(xA, xB)]\n",
        "\n",
        "print(getCrossed([0.0, 0.5, 1.0], [1.0, 0.25, 0.75])) ### TEST"
      ]
    },
    {
      "cell_type": "code",
      "execution_count": null,
      "metadata": {
        "id": "JzPSKOIN4L49",
        "outputId": "691d2bbd-95b6-4870-dc0f-0c64cb8c98d3"
      },
      "outputs": [
        {
          "name": "stdout",
          "output_type": "stream",
          "text": [
            "[0.0, 0.2, 0.0, 1.0, 1.0]\n",
            "[0.11759436548479521, 0.07246602107606151, 0.0, 1.0, 1.0]\n",
            "[0.12358360297278424, 0.36062996012010423, 0.0, 1.0, 1.0]\n"
          ]
        }
      ],
      "source": [
        "# TODO poniższa funkcja winna \"mutować\" wejściowy wektor x (operacje powinny być wykonywane)\n",
        "# na x. Należy w procedurze uwzględnić prawdopodobieństwo zajścia \n",
        "# mutacji dla każdej zmiennej decyzyjnej. W przypadku zmiennych binarnych mutacja winna być\n",
        "# zrealizowana jako dopełnienie zmiennej do 1: nowe x[i] = 1 - x[i]. W przypadku zmiennych ciągłych \n",
        "# można wykorzystać mutację gausowską, tzn. dodać do wartości losową liczbę z rozkładu\n",
        "# normalnego o odchyleniu standardowym podanym na wejściu metody \"std\"\n",
        "# Należy tutaj zabezpieczyć procedurę przed potencjalnym przekroczeniu tak zaktualizowanej\n",
        "# wartości poza dozwolony przedział [0, 1]\n",
        "\n",
        "def mutate(x, prob, std):\n",
        "    # Zmienne [0, 1]\n",
        "    for i in range(2):\n",
        "        if rng.random() < prob:\n",
        "            x[i] += rng.normal(0, std)\n",
        "            x[i] = min(max(x[i], 0.0), 1.0)\n",
        "\n",
        "    # Zmienne binarne\n",
        "    for i in range(2, len(x)):\n",
        "        if rng.random() < prob:\n",
        "            x[i] = 1 - x[i]\n",
        "\n",
        "for std in [0.0, 0.1, 0.2]: ## TEST\n",
        "    x = [0.0, 0.2, 1.0, 0.0, 0.0]\n",
        "    mutate(x, 1.0, std)\n",
        "    print(x)"
      ]
    },
    {
      "cell_type": "code",
      "execution_count": null,
      "metadata": {
        "id": "ux9Vu3JT4L49"
      },
      "outputs": [],
      "source": [
        "### Proszę zapoznać się z poniższą metodą\n",
        "### Generuja ona wektor rozwiązań potomnych w oparciu o wyselekcjonowanych rodziców\n",
        "### i przyjęte operatory reprodukcji\n",
        "\n",
        "def constructOffspring(P, parents, gen, std):\n",
        "    O = []\n",
        "    prob = 1.0 / 5.0\n",
        "    for i in range(len(parents)):\n",
        "        xO = getCrossed(P[parents[i][0]].x, P[parents[i][1]].x)\n",
        "        mutate(xO, prob, std)\n",
        "        O.append(Solution(xO, evaluate(xO), str(gen) + \"-\" + str(i)))\n",
        "    return O"
      ]
    },
    {
      "cell_type": "code",
      "execution_count": null,
      "metadata": {
        "id": "h6pKjSxM4L4-"
      },
      "outputs": [],
      "source": [
        "# Pomocnicza metoda określająca zajście relacji dominacji\n",
        "def dominates(sj, sk):\n",
        "    if sj.f[0] < sk.f[0] and sj.f[1] <= sk.f[1]: return True\n",
        "    if sj.f[0] <= sk.f[0] and sj.f[1] < sk.f[1]: return True\n",
        "    return False"
      ]
    },
    {
      "cell_type": "code",
      "execution_count": null,
      "metadata": {
        "id": "C9eT-sa94L4-"
      },
      "outputs": [],
      "source": [
        "### TODO Poniższa funkcja winna realizować przydział rozwiązań do frontów niezdominowanych\n",
        "### Wyjściem powinna być lista list indeksów rozwiązań w P, przydzielonych do odpowiednich frontów.\n",
        "### Np. wyjście: [[3,4,0],[1,5],[2]] oznacza, że rozwiązania nr 0, 3, 4 w P są w pierszym froncie,\n",
        "### 1 i 5 w drugim, a rozwiązanie numer 2 w ostatnim. \n",
        "\n",
        "def getNonDominatedFronts(P):\n",
        "    indices = list(range(len(P)))\n",
        "    fronts = []\n",
        "    while len(indices) > 0:\n",
        "        front = []\n",
        "        for i in indices:\n",
        "            is_dominated = False\n",
        "            for j in indices:\n",
        "                if i != j and dominates(P[j], P[i]):\n",
        "                    is_dominated = True\n",
        "                    break\n",
        "            if not is_dominated:\n",
        "                front.append(i)\n",
        "        fronts.append(front)\n",
        "        for f in front:\n",
        "            indices.remove(f)\n",
        "\n",
        "    return fronts"
      ]
    },
    {
      "cell_type": "code",
      "execution_count": null,
      "metadata": {
        "id": "bo6WlTSc4L4_"
      },
      "outputs": [],
      "source": [
        "### TODO poniższa metoda winna obliczać wartości crowding distance (cd)\n",
        "# dla rozwiazań w P. UWAGA: cd jest obliczany dla niezdominowanych frontów z osobna;\n",
        "# obliczając cd dla rozwiązań w jednym froncie \"zapominamy\" o pozostałych rozwiązaniach.\n",
        "# Metoda winna zwrócić wektor uzyskanych cd\n",
        "INF = 1e3\n",
        "\n",
        "def getCrowdingDistances(F, P):\n",
        "    cds = [0] * len(P)\n",
        "    for front in F:\n",
        "        sorted_front = sorted(front, key=lambda i: P[i].f[0])\n",
        "        for i, index in enumerate(sorted_front):\n",
        "            if i > 0 and i < len(sorted_front) - 1:\n",
        "                cds[index] = (P[sorted_front[i + 1]].f[0] - P[sorted_front[i - 1]].f[0]\n",
        "                    + P[sorted_front[i - 1]].f[1] - P[sorted_front[i + 1]].f[1])\n",
        "            else:\n",
        "                cds[index] = INF\n",
        "    return cds"
      ]
    },
    {
      "cell_type": "code",
      "execution_count": null,
      "metadata": {
        "id": "7h_RFbXS4L4_"
      },
      "outputs": [],
      "source": [
        "### Poniższa metoda przydziela rozwiązaniom ich numery niezdominowanych frontów i wartości cd,\n",
        "# a także sortuje rozwiązania w populacji w oparciu o te wartości. \n",
        "# W przypadku, gdy useCD = False, miara cd nie jest uwzględniona przy sortowaniu.\n",
        "# Przetestowanie metody dla useCD = True i False pozwoli zaobserwować zysk wynikający\n",
        "# z wykorzystania miary cd.\n",
        "\n",
        "def applyScoresAndSort(P, useCD = True):\n",
        "    F = getNonDominatedFronts(P)\n",
        "    CD = [0 for _ in P]\n",
        "    if useCD:\n",
        "        CD = getCrowdingDistances(F, P)\n",
        "        mi, ma = min(CD), max(CD) ### nomralizacja CD\n",
        "        if abs(mi - ma) < 0.00001: CD = [0.5 for _ in range(len(P))]\n",
        "        CD = [(v-mi)/(ma-mi) for v in CD]\n",
        "\n",
        "    for s, f in enumerate(F):\n",
        "         for i in f: \n",
        "            P[i].front = s\n",
        "            P[i].cd = CD[i]\n",
        "   \n",
        "    P.sort(key=lambda x: x.front - x.cd * 0.5) # Kryterium sortowania"
      ]
    },
    {
      "cell_type": "code",
      "execution_count": null,
      "metadata": {
        "id": "h8xqzKdm4L4_"
      },
      "outputs": [],
      "source": [
        "# TODO Poniższa funkcja winna obliczać pomocnicze statystyki, które pomogą\n",
        "# uzasadnić wykorzystanie miary cd w obliczeniach.\n",
        "# Metoda tak winna zwrócić średnią, maksymalną, minimalną wartość \n",
        "# cd dla rozwiązań, oraz odchylenie standardowe tych wartości\n",
        "# w populacji P. Przy obliczaniu statystyk należy pominąć wartości graniczne (nieskończoność),\n",
        "# uzyskiwane przez wartości graniczne\n",
        "# Jak należy interpretować te miary?\n",
        "\n",
        "# Algorytm powinien uzyskać rozwiązania równomiernie rozproszone, więc odchylenie standardowe powinno być małe, a minimum i maksimum jak najbliższe.\n",
        "# Jednocześnie wyższe wartości miary zatłoczenia są lepsze, więc średnia powinna być wyższa.\n",
        "\n",
        "def getStatsCD(P):\n",
        "    fronts = getNonDominatedFronts(P)\n",
        "    cds = getCrowdingDistances(fronts, P)\n",
        "    cds = [cd for cd in cds if cd < INF]\n",
        "    return np.mean(cds), np.max(cds), np.min(cds), np.std(cds)"
      ]
    },
    {
      "cell_type": "markdown",
      "metadata": {
        "id": "3j3pZsaA4L5A"
      },
      "source": [
        "Poniższe dwie komórki realizują działanie algorytmu NSGA-II, ilustrują skonstruowane rozwiązania na 5 różnych etapach działania algorytmu i ostateczni wypisują uzyskane statystki dla CD. W pierwszej komórce cd nie jest wykorzystane przy sortowaniu, w drugiej jest. Należy zapoznać się z kodem i przetestować działanie dla różnych parametrów (rozmiary populacji, itp). Dla którego wariantu algorytm wykazał się lepszym działaniem? (powinien dla tego, który wykorzystywał miarę cd ;) ) <br>\n",
        "\n",
        "<b>Dla chętnych: </b> algorytmy ewolucyjne są losowe. Z tego powodu jednokrotne ich uruchomienie nie jest wiarygodne. By uzyskać bardziej wiarygodny wynik, algorytm może zostać uruchomiony np. 20 razy a uzyskane statystyki uśrednione. Dodatkowo można je obliczyć dla każdej generacji (nie tylko w ostatniej) i wykreślić ich zbieżność na wykresie liniowym. Na jednym wykresie można wykreślić wyniki uzyskane przez oba warianty algorytmu - dzięki czemu różnice powinny byc lepiej widoczne. Proszę zauważyć jednak, że statystki dla cd nie są możliwie najlepszą miarą oceny jakości działania algorytmu. Na samym początku, gdy rozwiązania są silnie rozproszone, ich wartości cd powinny być bardzo wysokie, co jest w sprzeczności z założeniem, że \"im większe cd tym lepiej\". Aby wiarygodniej oceniać takie algorytmy, należy także wykorzystywać miary, które szacują odległość rozwiązań do frontu Pareta. Można zaproponować taką miarę i wykorzystać ją do pokazania \"bliskości\" populacji do tego frontu. Dopiero jednoczesne zestawienie takiej miary i miary oceniającej rozproszenie rozwiązań umożliwi lepsze porównanie algorytmów. "
      ]
    },
    {
      "cell_type": "code",
      "execution_count": null,
      "metadata": {
        "scrolled": false,
        "id": "0YrN_Ge14L5A",
        "outputId": "0434ff70-f9b4-4ac8-c185-fb735990d380"
      },
      "outputs": [
        {
          "name": "stdout",
          "output_type": "stream",
          "text": [
            "(0.22663034957733905, 1.2769940326720441, 0.0, 0.38005047409781517)\n"
          ]
        },
        {
          "data": {
            "image/png": "[encoded data removed]",
            "text/plain": [
              "<Figure size 432x288 with 1 Axes>"
            ]
          },
          "metadata": {
            "needs_background": "light"
          },
          "output_type": "display_data"
        },
        {
          "data": {
            "image/png": "[encoded data removed]",
            "text/plain": [
              "<Figure size 432x288 with 1 Axes>"
            ]
          },
          "metadata": {
            "needs_background": "light"
          },
          "output_type": "display_data"
        },
        {
          "data": {
            "image/png": "[encoded data removed]",
            "text/plain": [
              "<Figure size 432x288 with 1 Axes>"
            ]
          },
          "metadata": {
            "needs_background": "light"
          },
          "output_type": "display_data"
        },
        {
          "data": {
            "image/png": "[encoded data removed]",
            "text/plain": [
              "<Figure size 432x288 with 1 Axes>"
            ]
          },
          "metadata": {
            "needs_background": "light"
          },
          "output_type": "display_data"
        },
        {
          "data": {
            "image/png": "[encoded data removed]",
            "text/plain": [
              "<Figure size 432x288 with 1 Axes>"
            ]
          },
          "metadata": {
            "needs_background": "light"
          },
          "output_type": "display_data"
        }
      ],
      "source": [
        "### Pominięcie miary CD\n",
        "N = 20 # rozmiar populacji\n",
        "GEN = 100 # liczba generacji/iteracji algorytmu\n",
        " \n",
        "P = constructInitialPopulation(N) # utworzenie populacji początkowej\n",
        "applyScoresAndSort(P, useCD = False) # posortowanie populacji wykorzystując fronty\n",
        "# niezdominowane (bez miary cd; useCD = False)\n",
        "\n",
        "for gen in range(GEN): # iteracja po kolejnych generacjach\n",
        "    C = constructParents(N) # skonstruowanie identyfikatorów rodziców\n",
        "    O = constructOffspring(P, C, gen + 1, 0.1) # konstrukcja potomstwa\n",
        "    M = P + O # połączenie obecnej populacji z potomną\n",
        "    applyScoresAndSort(M, useCD = False) # posortowanie tak połączonej populacji\n",
        "    P = M[:N] # \"przeżywają najlepiej przystosowani\"\n",
        "    if gen % (GEN / 4) == 0 or gen == GEN - 1: plotPopul(P) # co jakiś krok\n",
        "        # ilustrowana jest populacja\n",
        "\n",
        "# wypisanie statystyk\n",
        "print(getStatsCD(P))"
      ]
    },
    {
      "cell_type": "code",
      "execution_count": null,
      "metadata": {
        "id": "RIkBAd4M4L5B",
        "outputId": "cccc67b8-d3de-4e6e-ad57-7bcdb2de30dd"
      },
      "outputs": [
        {
          "name": "stdout",
          "output_type": "stream",
          "text": [
            "(0.21674515862276073, 0.37650827073820625, 0.16455443464139471, 0.05838248993276114)\n"
          ]
        },
        {
          "data": {
            "image/png": "[encoded data removed]",
            "text/plain": [
              "<Figure size 432x288 with 1 Axes>"
            ]
          },
          "metadata": {
            "needs_background": "light"
          },
          "output_type": "display_data"
        },
        {
          "data": {
            "image/png": "[encoded data removed]",
            "text/plain": [
              "<Figure size 432x288 with 1 Axes>"
            ]
          },
          "metadata": {
            "needs_background": "light"
          },
          "output_type": "display_data"
        },
        {
          "data": {
            "image/png": "[encoded data removed]",
            "text/plain": [
              "<Figure size 432x288 with 1 Axes>"
            ]
          },
          "metadata": {
            "needs_background": "light"
          },
          "output_type": "display_data"
        },
        {
          "data": {
            "image/png": "[encoded data removed]",
            "text/plain": [
              "<Figure size 432x288 with 1 Axes>"
            ]
          },
          "metadata": {
            "needs_background": "light"
          },
          "output_type": "display_data"
        },
        {
          "data": {
            "image/png": "[encoded data removed]",
            "text/plain": [
              "<Figure size 432x288 with 1 Axes>"
            ]
          },
          "metadata": {
            "needs_background": "light"
          },
          "output_type": "display_data"
        },
        {
          "data": {
            "image/png": "[encoded data removed]",
            "text/plain": [
              "<Figure size 432x288 with 1 Axes>"
            ]
          },
          "metadata": {
            "needs_background": "light"
          },
          "output_type": "display_data"
        }
      ],
      "source": [
        "### Pominięcie miary CD\n",
        "N = 20\n",
        "GEN = 100\n",
        "\n",
        "P = constructInitialPopulation(N)\n",
        "applyScoresAndSort(P, useCD = True)\n",
        "\n",
        "for gen in range(GEN):\n",
        "    C = constructParents(N)\n",
        "    O = constructOffspring(P, C, gen + 1, 0.1)\n",
        "    M = P + O\n",
        "    applyScoresAndSort(M, useCD = True)\n",
        "    P = M[:N]\n",
        "    if gen % (GEN / 5) == 0 or gen == GEN - 1: plotPopul(P)\n",
        "\n",
        "print(getStatsCD(P))"
      ]
    }
  ],
  "metadata": {
    "kernelspec": {
      "display_name": "Python 3",
      "language": "python",
      "name": "python3"
    },
    "language_info": {
      "codemirror_mode": {
        "name": "ipython",
        "version": 3
      },
      "file_extension": ".py",
      "mimetype": "text/x-python",
      "name": "python",
      "nbconvert_exporter": "python",
      "pygments_lexer": "ipython3",
      "version": "3.7.4"
    },
    "colab": {
      "provenance": []
    }
  },
  "nbformat": 4,
  "nbformat_minor": 0
}